{
 "cells": [
  {
   "cell_type": "code",
   "execution_count": 1,
   "id": "6af0df1e",
   "metadata": {},
   "outputs": [
    {
     "name": "stdout",
     "output_type": "stream",
     "text": [
      "Requirement already satisfied: numpy in c:\\users\\iliya\\anaconda3\\lib\\site-packages (1.21.5)\n",
      "Collecting kaggle\n",
      "  Using cached kaggle-1.5.12-py3-none-any.whl\n",
      "Requirement already satisfied: urllib3 in c:\\users\\iliya\\anaconda3\\lib\\site-packages (from kaggle) (1.26.9)\n",
      "Requirement already satisfied: requests in c:\\users\\iliya\\anaconda3\\lib\\site-packages (from kaggle) (2.27.1)\n",
      "Requirement already satisfied: tqdm in c:\\users\\iliya\\anaconda3\\lib\\site-packages (from kaggle) (4.64.0)\n",
      "Requirement already satisfied: python-slugify in c:\\users\\iliya\\anaconda3\\lib\\site-packages (from kaggle) (5.0.2)\n",
      "Requirement already satisfied: six>=1.10 in c:\\users\\iliya\\anaconda3\\lib\\site-packages (from kaggle) (1.16.0)\n",
      "Requirement already satisfied: certifi in c:\\users\\iliya\\anaconda3\\lib\\site-packages (from kaggle) (2021.10.8)\n",
      "Requirement already satisfied: python-dateutil in c:\\users\\iliya\\anaconda3\\lib\\site-packages (from kaggle) (2.8.2)\n",
      "Requirement already satisfied: text-unidecode>=1.3 in c:\\users\\iliya\\anaconda3\\lib\\site-packages (from python-slugify->kaggle) (1.3)\n",
      "Requirement already satisfied: idna<4,>=2.5 in c:\\users\\iliya\\anaconda3\\lib\\site-packages (from requests->kaggle) (3.3)\n",
      "Requirement already satisfied: charset-normalizer~=2.0.0 in c:\\users\\iliya\\anaconda3\\lib\\site-packages (from requests->kaggle) (2.0.4)\n",
      "Requirement already satisfied: colorama in c:\\users\\iliya\\anaconda3\\lib\\site-packages (from tqdm->kaggle) (0.4.4)\n",
      "Installing collected packages: kaggle\n",
      "Successfully installed kaggle-1.5.12\n"
     ]
    }
   ],
   "source": [
    "!pip install numpy\n",
    "!pip install kaggle"
   ]
  },
  {
   "cell_type": "code",
   "execution_count": 2,
   "id": "2bb2318e",
   "metadata": {},
   "outputs": [
    {
     "ename": "NameError",
     "evalue": "name 'warning' is not defined",
     "output_type": "error",
     "traceback": [
      "\u001b[1;31m---------------------------------------------------------------------------\u001b[0m",
      "\u001b[1;31mNameError\u001b[0m                                 Traceback (most recent call last)",
      "Input \u001b[1;32mIn [2]\u001b[0m, in \u001b[0;36m<cell line: 6>\u001b[1;34m()\u001b[0m\n\u001b[0;32m      4\u001b[0m \u001b[38;5;28;01mimport\u001b[39;00m \u001b[38;5;21;01mpandas\u001b[39;00m \u001b[38;5;28;01mas\u001b[39;00m \u001b[38;5;21;01mpd\u001b[39;00m\n\u001b[0;32m      5\u001b[0m \u001b[38;5;28;01mimport\u001b[39;00m \u001b[38;5;21;01mtensorflow\u001b[39;00m \u001b[38;5;28;01mas\u001b[39;00m \u001b[38;5;21;01mtf\u001b[39;00m\n\u001b[1;32m----> 6\u001b[0m \u001b[43mwarning\u001b[49m\u001b[38;5;241m.\u001b[39mfilterwarnings(\u001b[38;5;124m\"\u001b[39m\u001b[38;5;124mignore\u001b[39m\u001b[38;5;124m\"\u001b[39m)\n",
      "\u001b[1;31mNameError\u001b[0m: name 'warning' is not defined"
     ]
    }
   ],
   "source": [
    "import os\n",
    "import numpy as np\n",
    "import matplotlib.pyplot as plt\n",
    "import pandas as pd\n",
    "import tensorflow as tf\n",
    "warning.filterwarnings(\"ignore\")"
   ]
  },
  {
   "cell_type": "code",
   "execution_count": null,
   "id": "6689fe72",
   "metadata": {},
   "outputs": [],
   "source": [
    "from tensorflow.keras.preprocessing import image\n",
    "img= image.load_img(\"C:\\\\Users\\\\hila\\\\Desktop\\\\dogs-vs-cats\\\\train\\\\dog.0.jpg\",target_size= (50,50))\n",
    "plt.imshow(img)"
   ]
  },
  {
   "cell_type": "code",
   "execution_count": null,
   "id": "c1d5b5c3",
   "metadata": {},
   "outputs": [],
   "source": [
    "from matplotlib import pyplot\n",
    "from matplotlib.image import imread\n",
    "# define location of dataset\n",
    "folder = \"C:\\\\Users\\\\hila\\\\Desktop\\\\dogs-vs-cats\\\\train\\\\\"\n",
    "# plot first few images\n",
    "for i in range(9):\n",
    "\t# define subplot\n",
    "\tpyplot.subplot(330 + 1 + i)\n",
    "\t# define filename\n",
    "\tfilename = folder + 'dog.' + str(i) + '.jpg'\n",
    "\t# load image pixels\n",
    "\timage = imread(filename)\n",
    "\t# plot raw pixel data\n",
    "\tpyplot.imshow(image)\n",
    "# show the figure\n",
    "pyplot.show()"
   ]
  },
  {
   "cell_type": "markdown",
   "id": "7683cabb",
   "metadata": {},
   "source": [
    "#pre-processing the img"
   ]
  },
  {
   "cell_type": "code",
   "execution_count": null,
   "id": "4f7302f8",
   "metadata": {},
   "outputs": [],
   "source": [
    "# load and confirm the shape\n",
    "from numpy import load\n",
    "photos = load('dogs_vs_cats_photos.npy')\n",
    "labels = load('dogs_vs_cats_labels.npy')\n",
    "print(photos.shape, labels.shape)"
   ]
  },
  {
   "cell_type": "code",
   "execution_count": null,
   "id": "db1d2f85",
   "metadata": {},
   "outputs": [],
   "source": []
  },
  {
   "cell_type": "code",
   "execution_count": null,
   "id": "23a7f4b1",
   "metadata": {
    "scrolled": true
   },
   "outputs": [],
   "source": [
    "from PIL import Image\n",
    "def changeColor(path):\n",
    "    picture= Image.open(path)\n",
    "    imgGray = picture.convert(\"1\")\n",
    "    return imgray"
   ]
  },
  {
   "cell_type": "code",
   "execution_count": null,
   "id": "db848736",
   "metadata": {},
   "outputs": [],
   "source": []
  },
  {
   "cell_type": "code",
   "execution_count": null,
   "id": "3991c39f",
   "metadata": {},
   "outputs": [],
   "source": [
    "def lable_img(img):\n",
    "    word_lable= img.split('.')[-2]\n",
    "    if word_lable == 'cat':return [1,0]\n",
    "    elif word_lable == 'dog':return [0,1]\n",
    "    else:\n",
    "        word_lable= img.split('.')[-3]\n",
    "        if word_lable == 'cat':return [1,0]\n",
    "        elif word_lable == 'dog':return [0,1]"
   ]
  },
  {
   "cell_type": "code",
   "execution_count": null,
   "id": "bdf64237",
   "metadata": {},
   "outputs": [],
   "source": [
    "def get_image(image_path):\n",
    "    image = Image.open(image_path).convert(\"L\")\n",
    "    image= image.resize((50, 50))\n",
    "    pixel_values = list(image.getdata())\n",
    "    return(pixel_values)"
   ]
  },
  {
   "cell_type": "code",
   "execution_count": null,
   "id": "f765667e",
   "metadata": {},
   "outputs": [],
   "source": [
    "pixels=[]\n",
    "path = \"C:\\\\Users\\\\hila\\\\Desktop\\\\dogs-vs-cats\\\\train\"\n",
    "\n",
    "for img in os.listdir(path):\n",
    "    img_path = os.path.join(path, img)\n",
    "    my_array =np.array(get_image(img_path))\n",
    "    pixels.append([my_array, (img.split('.')[0])])"
   ]
  },
  {
   "cell_type": "code",
   "execution_count": null,
   "id": "8782a17d",
   "metadata": {},
   "outputs": [],
   "source": [
    "for i in range(0,25000):\n",
    "    pixels[i]=pixels[i].reshape(50*50,)\n",
    "column= []\n",
    "for i in range(0,50*50):\n",
    "    column.append('pixel'+str(i))\n",
    "df=pd.DataFrame(data=pixels,columns=column)"
   ]
  },
  {
   "cell_type": "code",
   "execution_count": null,
   "id": "71041ed4",
   "metadata": {},
   "outputs": [],
   "source": [
    "df"
   ]
  },
  {
   "cell_type": "code",
   "execution_count": null,
   "id": "83ac7e84",
   "metadata": {},
   "outputs": [],
   "source": [
    "print(\"check for nulls:\",df.isnull().sum().sum())\n",
    "print(\"Dataframes' shape:\",df.shape)"
   ]
  },
  {
   "cell_type": "code",
   "execution_count": null,
   "id": "be8691ce",
   "metadata": {},
   "outputs": [],
   "source": [
    "pixels=[]\n",
    "j=0\n",
    "for img in os.listdir( \"C:\\\\Users\\\\hila\\\\Desktop\\\\dogs-vs-cats\\\\test1\"):\n",
    "    path= \"C:\\\\Users\\\\hila\\\\Desktop\\\\dogs-vs-cats\\\\test1\\\\\"+img\n",
    "    my_array =np.array(get_image(path))\n",
    "    pixels=pixels+[my_array]\n",
    "    j=j+1\n",
    "for i in range(j):\n",
    "    pixels[i]=pixels[i].reshape(50*50,)\n",
    "column= []\n",
    "for i in range(0,50*50):\n",
    "    column.append('pixel'+str(i))\n",
    "df2=pd.DataFrame(data=pixels,columns=column)\n",
    "df2"
   ]
  },
  {
   "cell_type": "code",
   "execution_count": null,
   "id": "e851948e",
   "metadata": {},
   "outputs": [],
   "source": [
    "X = df.iloc[:,:-1]\n",
    "y = df.iloc[:,-1:]\n",
    "from sklearn.model_selection import train_test_split\n",
    "\n",
    "X_train, X_test, y_train, y_test = train_test_split(X, y, test_size=0.1, random_state=42, stratify = y)\n",
    "print(\"Trains' shape:\",X_train.shape)\n",
    "print(\"Tests' shape:\",y_test.shape)"
   ]
  },
  {
   "cell_type": "code",
   "execution_count": null,
   "id": "4b20f10d",
   "metadata": {},
   "outputs": [],
   "source": [
    "from sklearn.dummy import DummyClassifier\n",
    "from sklearn import linear_model\n",
    "dum = DummyClassifier(strategy=\"most_frequent\")\n",
    "dum.fit(X_train, y_train)\n",
    "\n",
    "print(\"Dummy model train score:\",dum.score(X_train, y_train))\n",
    "print(\"Dummy model test score:\",dum.score(X_test, y_test))\n",
    "dum.score(X, y)"
   ]
  },
  {
   "cell_type": "code",
   "execution_count": null,
   "id": "baa43709",
   "metadata": {},
   "outputs": [],
   "source": []
  },
  {
   "cell_type": "code",
   "execution_count": null,
   "id": "3e5e3720",
   "metadata": {},
   "outputs": [],
   "source": [
    "from sklearn.decomposition import PCA\n",
    "from sklearn.preprocessing import StandardScaler\n",
    "PCA_data = df.iloc[:,:-1]\n",
    "PCA_data = pd.DataFrame(StandardScaler().fit_transform(PCA_data))"
   ]
  },
  {
   "cell_type": "code",
   "execution_count": null,
   "id": "72f15350",
   "metadata": {},
   "outputs": [],
   "source": [
    "pca_model = PCA(n_components=49 * 50,whiten=True,svd_solver = 'randomized', random_state = 42)\n",
    "pca_model.fit(PCA_data)"
   ]
  },
  {
   "cell_type": "code",
   "execution_count": null,
   "id": "18dc93d6",
   "metadata": {},
   "outputs": [],
   "source": [
    "pca_model_new = PCA(n_components=0.95,whiten=True, random_state = 42)\n",
    "pca_model_new.fit(PCA_data)"
   ]
  },
  {
   "cell_type": "code",
   "execution_count": null,
   "id": "5bf90db9",
   "metadata": {},
   "outputs": [],
   "source": [
    "pca_new_reduced = pca_model_new.transform(PCA_data)\n",
    "pca_recovered = pca_model_new.inverse_transform(pca_new_reduced)\n",
    "print(\"New dataframe shape:\",pca_recovered.shape)"
   ]
  },
  {
   "cell_type": "code",
   "execution_count": null,
   "id": "880aa625",
   "metadata": {},
   "outputs": [],
   "source": [
    "pca_data = pd.DataFrame(pca_new_reduced)\n",
    "\n",
    "pca_data = pd.concat([pca_data, y], axis = 1)\n",
    "X_new = pca_data.iloc[:,:-1]\n",
    "y_new = pca_data.iloc[:,-1:]\n",
    "\n",
    "X_train_new, X_test_new, y_train_new, y_test_new = train_test_split(X_new, y_new, test_size=0.10, random_state=42, stratify = y)\n",
    "print(\"Train shape:\",X_train_new.shape)\n",
    "print(\"Test shape:\",X_test_new.shape)"
   ]
  },
  {
   "cell_type": "code",
   "execution_count": null,
   "id": "a70490a5",
   "metadata": {},
   "outputs": [],
   "source": [
    "from sklearn.linear_model import LogisticRegression\n",
    "logistic_model = LogisticRegression(solver = 'saga', \n",
    "                                    n_jobs = os.cpu_count() - 1,  \n",
    "                                    class_weight = 'balanced', \n",
    "                                    multi_class = 'ovr',  \n",
    "                                    random_state=42)\n",
    "logistic_model.fit(X_train_new, y_train_new.values.ravel())"
   ]
  },
  {
   "cell_type": "code",
   "execution_count": null,
   "id": "a9e369da",
   "metadata": {},
   "outputs": [],
   "source": [
    "from sklearn.model_selection import cross_validate\n",
    "scores = cross_validate(logistic_model, X_train_new, y_train_new.values.ravel(), cv = 3, return_train_score = True)\n",
    "print(\"Logistic regression baseline train score:\",logistic_model.score(X_train_new, y_train_new))\n",
    "print(\"Logistic regression cross-validation train score:\",scores['train_score'].mean())\n",
    "print(\"Logistic regression baseline test score:\",logistic_model.score(X_test_new, y_test_new))\n",
    "print(\"Logistic regression cross-validation test score:\",scores['test_score'].mean())"
   ]
  },
  {
   "cell_type": "code",
   "execution_count": null,
   "id": "ad6d573f",
   "metadata": {},
   "outputs": [],
   "source": [
    "from xgboost import XGBClassifier\n",
    "from sklearn import metrics"
   ]
  },
  {
   "cell_type": "code",
   "execution_count": null,
   "id": "b9ec2df8",
   "metadata": {},
   "outputs": [],
   "source": [
    "XGC_model=XGBClassifier(n_estimators=500, \n",
    "                        objective='binary:logistic', \n",
    "                        booster='gbtree').fit(X_train_new, y_train_new)"
   ]
  },
  {
   "cell_type": "code",
   "execution_count": null,
   "id": "2ed999a0",
   "metadata": {},
   "outputs": [],
   "source": [
    "prediction_train=XGC_model.predict(X_train_new)\n",
    "prediction_test=XGC_model.predict(X_test_new)"
   ]
  },
  {
   "cell_type": "code",
   "execution_count": null,
   "id": "a0d476ea",
   "metadata": {},
   "outputs": [],
   "source": []
  },
  {
   "cell_type": "code",
   "execution_count": null,
   "id": "17ef2fa5",
   "metadata": {},
   "outputs": [],
   "source": [
    "knn_model = KNeighborsClassifier(n_neighbors = 37)\n",
    "knn_model.fit(df_train, Y_train)\n",
    "count = 0\n",
    "\n",
    "y_pred_train = knn_model.predict(df_train)\n",
    "y_pred_test = knn_model.predict(df_test)\n",
    "print(f\"The train Accuracy for {models[count]} model is:\", accuracy_score(y_true = Y_train, y_pred = y_pred_train))\n",
    "print(f\"The test Accuracy for {models[count]} model is:\", accuracy_score(y_true = Y_test, y_pred = y_pred_test))\n",
    "print()\n",
    "count = count+1"
   ]
  },
  {
   "cell_type": "code",
   "execution_count": null,
   "id": "4f003cbe",
   "metadata": {},
   "outputs": [],
   "source": []
  },
  {
   "cell_type": "code",
   "execution_count": null,
   "id": "424dd18e",
   "metadata": {},
   "outputs": [],
   "source": []
  },
  {
   "cell_type": "code",
   "execution_count": null,
   "id": "8dc6ce7c",
   "metadata": {},
   "outputs": [],
   "source": []
  }
 ],
 "metadata": {
  "kernelspec": {
   "display_name": "Python 3 (ipykernel)",
   "language": "python",
   "name": "python3"
  },
  "language_info": {
   "codemirror_mode": {
    "name": "ipython",
    "version": 3
   },
   "file_extension": ".py",
   "mimetype": "text/x-python",
   "name": "python",
   "nbconvert_exporter": "python",
   "pygments_lexer": "ipython3",
   "version": "3.9.12"
  }
 },
 "nbformat": 4,
 "nbformat_minor": 5
}
